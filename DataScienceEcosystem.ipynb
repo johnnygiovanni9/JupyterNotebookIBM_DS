{
 "cells": [
  {
   "cell_type": "markdown",
   "id": "7e183fd2-5103-44bb-a1ef-b926dc873bcb",
   "metadata": {},
   "source": [
    "# Data Science Tools and Ecosystem"
   ]
  },
  {
   "cell_type": "markdown",
   "id": "e4631310-6619-4555-a9f9-3d648c86dc03",
   "metadata": {},
   "source": [
    "This notebook provides an overview of some key tools and technologies used in the data science ecosystem."
   ]
  },
  {
   "cell_type": "markdown",
   "id": "4d452d97-4b75-4ea7-9c00-1de0415648a8",
   "metadata": {},
   "source": [
    "**Objectives:**\n",
    "\n",
    "- Popular Languages for Data Science\n",
    "- Popular Data Science Libraries\n",
    "- Arithmetic Expression in Python\n",
    "- Time Convert in Python"
   ]
  },
  {
   "cell_type": "markdown",
   "id": "76811a9e-dfaf-44ed-b0c4-f95997db7deb",
   "metadata": {},
   "source": [
    "Popular Languages for Data Science:\n",
    "\n",
    "1. Python\n",
    "2. SQL\n",
    "3. Julia\n",
    "4. R"
   ]
  },
  {
   "cell_type": "markdown",
   "id": "8f63cab2-5100-4788-aa28-393fc201013f",
   "metadata": {},
   "source": [
    "Popular Data Science Libraries\n",
    "\n",
    "1. Pandas\n",
    "2. NumPy\n",
    "3. TensorFlow\n",
    "4. Matplotlib\n",
    "5. Scikit-Learn"
   ]
  },
  {
   "cell_type": "markdown",
   "id": "c7ad380b-f776-43d7-8686-41b51b801e0b",
   "metadata": {},
   "source": [
    "| Data Science Tools |\n",
    "|--------------------|\n",
    "| Visual Studio Code |\n",
    "| Jupyter Notebook   |\n",
    "| Anaconda           |"
   ]
  },
  {
   "cell_type": "markdown",
   "id": "0b98b0d7-c86d-4a39-be12-8636b351b7f7",
   "metadata": {},
   "source": [
    "### Below are a few examples of evaluating arithmetic expressions in Python."
   ]
  },
  {
   "cell_type": "code",
   "execution_count": 5,
   "id": "1def6408-dac4-4c18-9e44-20d051f4be04",
   "metadata": {},
   "outputs": [
    {
     "data": {
      "text/plain": [
       "17"
      ]
     },
     "execution_count": 5,
     "metadata": {},
     "output_type": "execute_result"
    }
   ],
   "source": [
    "(3*4)+5\n",
    "#This a simple arithmetic expression to mutiply then add integer"
   ]
  },
  {
   "cell_type": "code",
   "execution_count": 7,
   "id": "b6267bda-a39a-4340-ad04-47729ac6d67c",
   "metadata": {},
   "outputs": [
    {
     "data": {
      "text/plain": [
       "3.3333333333333335"
      ]
     },
     "execution_count": 7,
     "metadata": {},
     "output_type": "execute_result"
    }
   ],
   "source": [
    "200/60\n",
    "#This will convert 200 minutes to hours by diving by 60"
   ]
  },
  {
   "cell_type": "code",
   "execution_count": null,
   "id": "7224a784-aae1-4978-bdac-734f499e3116",
   "metadata": {},
   "outputs": [],
   "source": []
  },
  {
   "cell_type": "markdown",
   "id": "cba936ee-3d26-438d-a930-d107553f4858",
   "metadata": {},
   "source": [
    "## Author:\n",
    "Can Yilmaz"
   ]
  },
  {
   "cell_type": "code",
   "execution_count": null,
   "id": "c5def7f8-8f07-400e-ba7a-ff6256413b6c",
   "metadata": {},
   "outputs": [],
   "source": []
  }
 ],
 "metadata": {
  "kernelspec": {
   "display_name": "Python 3 (ipykernel)",
   "language": "python",
   "name": "python3"
  },
  "language_info": {
   "codemirror_mode": {
    "name": "ipython",
    "version": 3
   },
   "file_extension": ".py",
   "mimetype": "text/x-python",
   "name": "python",
   "nbconvert_exporter": "python",
   "pygments_lexer": "ipython3",
   "version": "3.12.8"
  }
 },
 "nbformat": 4,
 "nbformat_minor": 5
}
